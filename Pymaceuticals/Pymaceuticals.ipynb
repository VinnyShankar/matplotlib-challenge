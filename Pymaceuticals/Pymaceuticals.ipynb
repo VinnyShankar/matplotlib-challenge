{
 "cells": [
  {
   "cell_type": "markdown",
   "id": "e4666193",
   "metadata": {},
   "source": [
    "# Pymaceuticals Inc.\n",
    "---\n",
    "\n",
    "### Analysis\n",
    "\n",
    "- Analysis\n",
    " "
   ]
  },
  {
   "cell_type": "code",
   "execution_count": 1,
   "id": "1103e527",
   "metadata": {},
   "outputs": [
    {
     "data": {
      "text/html": [
       "<div>\n",
       "<style scoped>\n",
       "    .dataframe tbody tr th:only-of-type {\n",
       "        vertical-align: middle;\n",
       "    }\n",
       "\n",
       "    .dataframe tbody tr th {\n",
       "        vertical-align: top;\n",
       "    }\n",
       "\n",
       "    .dataframe thead th {\n",
       "        text-align: right;\n",
       "    }\n",
       "</style>\n",
       "<table border=\"1\" class=\"dataframe\">\n",
       "  <thead>\n",
       "    <tr style=\"text-align: right;\">\n",
       "      <th></th>\n",
       "      <th>Mouse ID</th>\n",
       "      <th>Timepoint</th>\n",
       "      <th>Tumor Volume (mm3)</th>\n",
       "      <th>Metastatic Sites</th>\n",
       "      <th>Drug Regimen</th>\n",
       "      <th>Sex</th>\n",
       "      <th>Age_months</th>\n",
       "      <th>Weight (g)</th>\n",
       "    </tr>\n",
       "  </thead>\n",
       "  <tbody>\n",
       "    <tr>\n",
       "      <th>0</th>\n",
       "      <td>b128</td>\n",
       "      <td>0</td>\n",
       "      <td>45.0</td>\n",
       "      <td>0</td>\n",
       "      <td>Capomulin</td>\n",
       "      <td>Female</td>\n",
       "      <td>9</td>\n",
       "      <td>22</td>\n",
       "    </tr>\n",
       "    <tr>\n",
       "      <th>1</th>\n",
       "      <td>f932</td>\n",
       "      <td>0</td>\n",
       "      <td>45.0</td>\n",
       "      <td>0</td>\n",
       "      <td>Ketapril</td>\n",
       "      <td>Male</td>\n",
       "      <td>15</td>\n",
       "      <td>29</td>\n",
       "    </tr>\n",
       "    <tr>\n",
       "      <th>2</th>\n",
       "      <td>g107</td>\n",
       "      <td>0</td>\n",
       "      <td>45.0</td>\n",
       "      <td>0</td>\n",
       "      <td>Ketapril</td>\n",
       "      <td>Female</td>\n",
       "      <td>2</td>\n",
       "      <td>29</td>\n",
       "    </tr>\n",
       "    <tr>\n",
       "      <th>3</th>\n",
       "      <td>a457</td>\n",
       "      <td>0</td>\n",
       "      <td>45.0</td>\n",
       "      <td>0</td>\n",
       "      <td>Ketapril</td>\n",
       "      <td>Female</td>\n",
       "      <td>11</td>\n",
       "      <td>30</td>\n",
       "    </tr>\n",
       "    <tr>\n",
       "      <th>4</th>\n",
       "      <td>c819</td>\n",
       "      <td>0</td>\n",
       "      <td>45.0</td>\n",
       "      <td>0</td>\n",
       "      <td>Ketapril</td>\n",
       "      <td>Male</td>\n",
       "      <td>21</td>\n",
       "      <td>25</td>\n",
       "    </tr>\n",
       "  </tbody>\n",
       "</table>\n",
       "</div>"
      ],
      "text/plain": [
       "  Mouse ID  Timepoint  Tumor Volume (mm3)  Metastatic Sites Drug Regimen  \\\n",
       "0     b128          0                45.0                 0    Capomulin   \n",
       "1     f932          0                45.0                 0     Ketapril   \n",
       "2     g107          0                45.0                 0     Ketapril   \n",
       "3     a457          0                45.0                 0     Ketapril   \n",
       "4     c819          0                45.0                 0     Ketapril   \n",
       "\n",
       "      Sex  Age_months  Weight (g)  \n",
       "0  Female           9          22  \n",
       "1    Male          15          29  \n",
       "2  Female           2          29  \n",
       "3  Female          11          30  \n",
       "4    Male          21          25  "
      ]
     },
     "execution_count": 1,
     "metadata": {},
     "output_type": "execute_result"
    }
   ],
   "source": [
    "#Dependencies\n",
    "import pandas as pd\n",
    "import matplotlib.pyplot as plt\n",
    "import scipy.stats as st\n",
    "\n",
    "#Data files\n",
    "mouse_path = \"data/Mouse_metadata.csv\"\n",
    "study_path = \"data/Study_results.csv\"\n",
    "\n",
    "#Read the .csv files\n",
    "mouse_metadata = pd.read_csv(mouse_path)\n",
    "study_results = pd.read_csv(study_path)\n",
    "\n",
    "#Merge the .csv files into one DataFrame\n",
    "merged_df = pd.merge(study_results,mouse_metadata,how=\"left\",on=\"Mouse ID\")\n",
    "\n",
    "#Display the first five rows of the DataFrame\n",
    "merged_df.head()"
   ]
  },
  {
   "cell_type": "code",
   "execution_count": 2,
   "id": "2fe017a5",
   "metadata": {},
   "outputs": [
    {
     "data": {
      "text/plain": [
       "249"
      ]
     },
     "execution_count": 2,
     "metadata": {},
     "output_type": "execute_result"
    }
   ],
   "source": [
    "#Count the number of unique mice\n",
    "merged_df[\"Mouse ID\"].nunique()"
   ]
  },
  {
   "cell_type": "code",
   "execution_count": 3,
   "id": "da9fb0f9",
   "metadata": {},
   "outputs": [
    {
     "data": {
      "text/plain": [
       "array(['g989'], dtype=object)"
      ]
     },
     "execution_count": 3,
     "metadata": {},
     "output_type": "execute_result"
    }
   ],
   "source": [
    "#Get unique Mouse IDs from rows where Mouse ID and Timepoint pairs are duplicated\n",
    "dupes = merged_df[merged_df.duplicated(['Mouse ID','Timepoint'])][\"Mouse ID\"].unique()\n",
    "dupes"
   ]
  },
  {
   "cell_type": "code",
   "execution_count": 4,
   "id": "fc827d12",
   "metadata": {},
   "outputs": [
    {
     "data": {
      "text/html": [
       "<div>\n",
       "<style scoped>\n",
       "    .dataframe tbody tr th:only-of-type {\n",
       "        vertical-align: middle;\n",
       "    }\n",
       "\n",
       "    .dataframe tbody tr th {\n",
       "        vertical-align: top;\n",
       "    }\n",
       "\n",
       "    .dataframe thead th {\n",
       "        text-align: right;\n",
       "    }\n",
       "</style>\n",
       "<table border=\"1\" class=\"dataframe\">\n",
       "  <thead>\n",
       "    <tr style=\"text-align: right;\">\n",
       "      <th></th>\n",
       "      <th>Mouse ID</th>\n",
       "      <th>Timepoint</th>\n",
       "      <th>Tumor Volume (mm3)</th>\n",
       "      <th>Metastatic Sites</th>\n",
       "      <th>Drug Regimen</th>\n",
       "      <th>Sex</th>\n",
       "      <th>Age_months</th>\n",
       "      <th>Weight (g)</th>\n",
       "    </tr>\n",
       "  </thead>\n",
       "  <tbody>\n",
       "    <tr>\n",
       "      <th>107</th>\n",
       "      <td>g989</td>\n",
       "      <td>0</td>\n",
       "      <td>45.000000</td>\n",
       "      <td>0</td>\n",
       "      <td>Propriva</td>\n",
       "      <td>Female</td>\n",
       "      <td>21</td>\n",
       "      <td>26</td>\n",
       "    </tr>\n",
       "    <tr>\n",
       "      <th>137</th>\n",
       "      <td>g989</td>\n",
       "      <td>0</td>\n",
       "      <td>45.000000</td>\n",
       "      <td>0</td>\n",
       "      <td>Propriva</td>\n",
       "      <td>Female</td>\n",
       "      <td>21</td>\n",
       "      <td>26</td>\n",
       "    </tr>\n",
       "    <tr>\n",
       "      <th>329</th>\n",
       "      <td>g989</td>\n",
       "      <td>5</td>\n",
       "      <td>48.786801</td>\n",
       "      <td>0</td>\n",
       "      <td>Propriva</td>\n",
       "      <td>Female</td>\n",
       "      <td>21</td>\n",
       "      <td>26</td>\n",
       "    </tr>\n",
       "    <tr>\n",
       "      <th>360</th>\n",
       "      <td>g989</td>\n",
       "      <td>5</td>\n",
       "      <td>47.570392</td>\n",
       "      <td>0</td>\n",
       "      <td>Propriva</td>\n",
       "      <td>Female</td>\n",
       "      <td>21</td>\n",
       "      <td>26</td>\n",
       "    </tr>\n",
       "    <tr>\n",
       "      <th>620</th>\n",
       "      <td>g989</td>\n",
       "      <td>10</td>\n",
       "      <td>51.745156</td>\n",
       "      <td>0</td>\n",
       "      <td>Propriva</td>\n",
       "      <td>Female</td>\n",
       "      <td>21</td>\n",
       "      <td>26</td>\n",
       "    </tr>\n",
       "    <tr>\n",
       "      <th>681</th>\n",
       "      <td>g989</td>\n",
       "      <td>10</td>\n",
       "      <td>49.880528</td>\n",
       "      <td>0</td>\n",
       "      <td>Propriva</td>\n",
       "      <td>Female</td>\n",
       "      <td>21</td>\n",
       "      <td>26</td>\n",
       "    </tr>\n",
       "    <tr>\n",
       "      <th>815</th>\n",
       "      <td>g989</td>\n",
       "      <td>15</td>\n",
       "      <td>51.325852</td>\n",
       "      <td>1</td>\n",
       "      <td>Propriva</td>\n",
       "      <td>Female</td>\n",
       "      <td>21</td>\n",
       "      <td>26</td>\n",
       "    </tr>\n",
       "    <tr>\n",
       "      <th>869</th>\n",
       "      <td>g989</td>\n",
       "      <td>15</td>\n",
       "      <td>53.442020</td>\n",
       "      <td>0</td>\n",
       "      <td>Propriva</td>\n",
       "      <td>Female</td>\n",
       "      <td>21</td>\n",
       "      <td>26</td>\n",
       "    </tr>\n",
       "    <tr>\n",
       "      <th>950</th>\n",
       "      <td>g989</td>\n",
       "      <td>20</td>\n",
       "      <td>55.326122</td>\n",
       "      <td>1</td>\n",
       "      <td>Propriva</td>\n",
       "      <td>Female</td>\n",
       "      <td>21</td>\n",
       "      <td>26</td>\n",
       "    </tr>\n",
       "    <tr>\n",
       "      <th>1111</th>\n",
       "      <td>g989</td>\n",
       "      <td>20</td>\n",
       "      <td>54.657650</td>\n",
       "      <td>1</td>\n",
       "      <td>Propriva</td>\n",
       "      <td>Female</td>\n",
       "      <td>21</td>\n",
       "      <td>26</td>\n",
       "    </tr>\n",
       "    <tr>\n",
       "      <th>1195</th>\n",
       "      <td>g989</td>\n",
       "      <td>25</td>\n",
       "      <td>56.045564</td>\n",
       "      <td>1</td>\n",
       "      <td>Propriva</td>\n",
       "      <td>Female</td>\n",
       "      <td>21</td>\n",
       "      <td>26</td>\n",
       "    </tr>\n",
       "    <tr>\n",
       "      <th>1380</th>\n",
       "      <td>g989</td>\n",
       "      <td>30</td>\n",
       "      <td>59.082294</td>\n",
       "      <td>1</td>\n",
       "      <td>Propriva</td>\n",
       "      <td>Female</td>\n",
       "      <td>21</td>\n",
       "      <td>26</td>\n",
       "    </tr>\n",
       "    <tr>\n",
       "      <th>1592</th>\n",
       "      <td>g989</td>\n",
       "      <td>35</td>\n",
       "      <td>62.570880</td>\n",
       "      <td>2</td>\n",
       "      <td>Propriva</td>\n",
       "      <td>Female</td>\n",
       "      <td>21</td>\n",
       "      <td>26</td>\n",
       "    </tr>\n",
       "  </tbody>\n",
       "</table>\n",
       "</div>"
      ],
      "text/plain": [
       "     Mouse ID  Timepoint  Tumor Volume (mm3)  Metastatic Sites Drug Regimen  \\\n",
       "107      g989          0           45.000000                 0     Propriva   \n",
       "137      g989          0           45.000000                 0     Propriva   \n",
       "329      g989          5           48.786801                 0     Propriva   \n",
       "360      g989          5           47.570392                 0     Propriva   \n",
       "620      g989         10           51.745156                 0     Propriva   \n",
       "681      g989         10           49.880528                 0     Propriva   \n",
       "815      g989         15           51.325852                 1     Propriva   \n",
       "869      g989         15           53.442020                 0     Propriva   \n",
       "950      g989         20           55.326122                 1     Propriva   \n",
       "1111     g989         20           54.657650                 1     Propriva   \n",
       "1195     g989         25           56.045564                 1     Propriva   \n",
       "1380     g989         30           59.082294                 1     Propriva   \n",
       "1592     g989         35           62.570880                 2     Propriva   \n",
       "\n",
       "         Sex  Age_months  Weight (g)  \n",
       "107   Female          21          26  \n",
       "137   Female          21          26  \n",
       "329   Female          21          26  \n",
       "360   Female          21          26  \n",
       "620   Female          21          26  \n",
       "681   Female          21          26  \n",
       "815   Female          21          26  \n",
       "869   Female          21          26  \n",
       "950   Female          21          26  \n",
       "1111  Female          21          26  \n",
       "1195  Female          21          26  \n",
       "1380  Female          21          26  \n",
       "1592  Female          21          26  "
      ]
     },
     "execution_count": 4,
     "metadata": {},
     "output_type": "execute_result"
    }
   ],
   "source": [
    "#Display all data for the duplicate Mouse ID\n",
    "dupes_df = merged_df.loc[merged_df[\"Mouse ID\"].isin(dupes),:]\n",
    "dupes_df"
   ]
  },
  {
   "cell_type": "code",
   "execution_count": 5,
   "id": "b9eabace",
   "metadata": {},
   "outputs": [
    {
     "data": {
      "text/html": [
       "<div>\n",
       "<style scoped>\n",
       "    .dataframe tbody tr th:only-of-type {\n",
       "        vertical-align: middle;\n",
       "    }\n",
       "\n",
       "    .dataframe tbody tr th {\n",
       "        vertical-align: top;\n",
       "    }\n",
       "\n",
       "    .dataframe thead th {\n",
       "        text-align: right;\n",
       "    }\n",
       "</style>\n",
       "<table border=\"1\" class=\"dataframe\">\n",
       "  <thead>\n",
       "    <tr style=\"text-align: right;\">\n",
       "      <th></th>\n",
       "      <th>Mouse ID</th>\n",
       "      <th>Timepoint</th>\n",
       "      <th>Tumor Volume (mm3)</th>\n",
       "      <th>Metastatic Sites</th>\n",
       "      <th>Drug Regimen</th>\n",
       "      <th>Sex</th>\n",
       "      <th>Age_months</th>\n",
       "      <th>Weight (g)</th>\n",
       "    </tr>\n",
       "  </thead>\n",
       "  <tbody>\n",
       "    <tr>\n",
       "      <th>0</th>\n",
       "      <td>b128</td>\n",
       "      <td>0</td>\n",
       "      <td>45.0</td>\n",
       "      <td>0</td>\n",
       "      <td>Capomulin</td>\n",
       "      <td>Female</td>\n",
       "      <td>9</td>\n",
       "      <td>22</td>\n",
       "    </tr>\n",
       "    <tr>\n",
       "      <th>1</th>\n",
       "      <td>f932</td>\n",
       "      <td>0</td>\n",
       "      <td>45.0</td>\n",
       "      <td>0</td>\n",
       "      <td>Ketapril</td>\n",
       "      <td>Male</td>\n",
       "      <td>15</td>\n",
       "      <td>29</td>\n",
       "    </tr>\n",
       "    <tr>\n",
       "      <th>2</th>\n",
       "      <td>g107</td>\n",
       "      <td>0</td>\n",
       "      <td>45.0</td>\n",
       "      <td>0</td>\n",
       "      <td>Ketapril</td>\n",
       "      <td>Female</td>\n",
       "      <td>2</td>\n",
       "      <td>29</td>\n",
       "    </tr>\n",
       "    <tr>\n",
       "      <th>3</th>\n",
       "      <td>a457</td>\n",
       "      <td>0</td>\n",
       "      <td>45.0</td>\n",
       "      <td>0</td>\n",
       "      <td>Ketapril</td>\n",
       "      <td>Female</td>\n",
       "      <td>11</td>\n",
       "      <td>30</td>\n",
       "    </tr>\n",
       "    <tr>\n",
       "      <th>4</th>\n",
       "      <td>c819</td>\n",
       "      <td>0</td>\n",
       "      <td>45.0</td>\n",
       "      <td>0</td>\n",
       "      <td>Ketapril</td>\n",
       "      <td>Male</td>\n",
       "      <td>21</td>\n",
       "      <td>25</td>\n",
       "    </tr>\n",
       "  </tbody>\n",
       "</table>\n",
       "</div>"
      ],
      "text/plain": [
       "  Mouse ID  Timepoint  Tumor Volume (mm3)  Metastatic Sites Drug Regimen  \\\n",
       "0     b128          0                45.0                 0    Capomulin   \n",
       "1     f932          0                45.0                 0     Ketapril   \n",
       "2     g107          0                45.0                 0     Ketapril   \n",
       "3     a457          0                45.0                 0     Ketapril   \n",
       "4     c819          0                45.0                 0     Ketapril   \n",
       "\n",
       "      Sex  Age_months  Weight (g)  \n",
       "0  Female           9          22  \n",
       "1    Male          15          29  \n",
       "2  Female           2          29  \n",
       "3  Female          11          30  \n",
       "4    Male          21          25  "
      ]
     },
     "execution_count": 5,
     "metadata": {},
     "output_type": "execute_result"
    }
   ],
   "source": [
    "#Create new DataFrame by dropping all rows with the duplicate Mouse ID\n",
    "clean_df = merged_df.drop(dupes_df.index)\n",
    "\n",
    "#Display the first 5 rows of the new DataFrame\n",
    "clean_df.head()"
   ]
  },
  {
   "cell_type": "code",
   "execution_count": 6,
   "id": "0ea82b53",
   "metadata": {},
   "outputs": [
    {
     "data": {
      "text/plain": [
       "248"
      ]
     },
     "execution_count": 6,
     "metadata": {},
     "output_type": "execute_result"
    }
   ],
   "source": [
    "#Count the number of unique mice in the new DataFrame\n",
    "clean_df[\"Mouse ID\"].nunique()"
   ]
  },
  {
   "cell_type": "markdown",
   "id": "bf85871a",
   "metadata": {},
   "source": [
    "## Summary Statistics"
   ]
  },
  {
   "cell_type": "code",
   "execution_count": 7,
   "id": "0307b20d",
   "metadata": {},
   "outputs": [
    {
     "data": {
      "text/html": [
       "<div>\n",
       "<style scoped>\n",
       "    .dataframe tbody tr th:only-of-type {\n",
       "        vertical-align: middle;\n",
       "    }\n",
       "\n",
       "    .dataframe tbody tr th {\n",
       "        vertical-align: top;\n",
       "    }\n",
       "\n",
       "    .dataframe thead th {\n",
       "        text-align: right;\n",
       "    }\n",
       "</style>\n",
       "<table border=\"1\" class=\"dataframe\">\n",
       "  <thead>\n",
       "    <tr style=\"text-align: right;\">\n",
       "      <th></th>\n",
       "      <th>Mean Tumor Volume</th>\n",
       "      <th>Median Tumor Volume</th>\n",
       "      <th>Tumor Volume Variance</th>\n",
       "      <th>Tumor Volume Std. Dev.</th>\n",
       "      <th>Tumor Volume Std. Err.</th>\n",
       "    </tr>\n",
       "    <tr>\n",
       "      <th>Drug Regimen</th>\n",
       "      <th></th>\n",
       "      <th></th>\n",
       "      <th></th>\n",
       "      <th></th>\n",
       "      <th></th>\n",
       "    </tr>\n",
       "  </thead>\n",
       "  <tbody>\n",
       "    <tr>\n",
       "      <th>Capomulin</th>\n",
       "      <td>40.675741</td>\n",
       "      <td>41.557809</td>\n",
       "      <td>24.947764</td>\n",
       "      <td>4.994774</td>\n",
       "      <td>0.329346</td>\n",
       "    </tr>\n",
       "    <tr>\n",
       "      <th>Ceftamin</th>\n",
       "      <td>52.591172</td>\n",
       "      <td>51.776157</td>\n",
       "      <td>39.290177</td>\n",
       "      <td>6.268188</td>\n",
       "      <td>0.469821</td>\n",
       "    </tr>\n",
       "    <tr>\n",
       "      <th>Infubinol</th>\n",
       "      <td>52.884795</td>\n",
       "      <td>51.820584</td>\n",
       "      <td>43.128684</td>\n",
       "      <td>6.567243</td>\n",
       "      <td>0.492236</td>\n",
       "    </tr>\n",
       "    <tr>\n",
       "      <th>Ketapril</th>\n",
       "      <td>55.235638</td>\n",
       "      <td>53.698743</td>\n",
       "      <td>68.553577</td>\n",
       "      <td>8.279709</td>\n",
       "      <td>0.603860</td>\n",
       "    </tr>\n",
       "    <tr>\n",
       "      <th>Naftisol</th>\n",
       "      <td>54.331565</td>\n",
       "      <td>52.509285</td>\n",
       "      <td>66.173479</td>\n",
       "      <td>8.134708</td>\n",
       "      <td>0.596466</td>\n",
       "    </tr>\n",
       "    <tr>\n",
       "      <th>Placebo</th>\n",
       "      <td>54.033581</td>\n",
       "      <td>52.288934</td>\n",
       "      <td>61.168083</td>\n",
       "      <td>7.821003</td>\n",
       "      <td>0.581331</td>\n",
       "    </tr>\n",
       "    <tr>\n",
       "      <th>Propriva</th>\n",
       "      <td>52.320930</td>\n",
       "      <td>50.446266</td>\n",
       "      <td>43.852013</td>\n",
       "      <td>6.622085</td>\n",
       "      <td>0.544332</td>\n",
       "    </tr>\n",
       "    <tr>\n",
       "      <th>Ramicane</th>\n",
       "      <td>40.216745</td>\n",
       "      <td>40.673236</td>\n",
       "      <td>23.486704</td>\n",
       "      <td>4.846308</td>\n",
       "      <td>0.320955</td>\n",
       "    </tr>\n",
       "    <tr>\n",
       "      <th>Stelasyn</th>\n",
       "      <td>54.233149</td>\n",
       "      <td>52.431737</td>\n",
       "      <td>59.450562</td>\n",
       "      <td>7.710419</td>\n",
       "      <td>0.573111</td>\n",
       "    </tr>\n",
       "    <tr>\n",
       "      <th>Zoniferol</th>\n",
       "      <td>53.236507</td>\n",
       "      <td>51.818479</td>\n",
       "      <td>48.533355</td>\n",
       "      <td>6.966589</td>\n",
       "      <td>0.516398</td>\n",
       "    </tr>\n",
       "  </tbody>\n",
       "</table>\n",
       "</div>"
      ],
      "text/plain": [
       "              Mean Tumor Volume  Median Tumor Volume  Tumor Volume Variance  \\\n",
       "Drug Regimen                                                                  \n",
       "Capomulin             40.675741            41.557809              24.947764   \n",
       "Ceftamin              52.591172            51.776157              39.290177   \n",
       "Infubinol             52.884795            51.820584              43.128684   \n",
       "Ketapril              55.235638            53.698743              68.553577   \n",
       "Naftisol              54.331565            52.509285              66.173479   \n",
       "Placebo               54.033581            52.288934              61.168083   \n",
       "Propriva              52.320930            50.446266              43.852013   \n",
       "Ramicane              40.216745            40.673236              23.486704   \n",
       "Stelasyn              54.233149            52.431737              59.450562   \n",
       "Zoniferol             53.236507            51.818479              48.533355   \n",
       "\n",
       "              Tumor Volume Std. Dev.  Tumor Volume Std. Err.  \n",
       "Drug Regimen                                                  \n",
       "Capomulin                   4.994774                0.329346  \n",
       "Ceftamin                    6.268188                0.469821  \n",
       "Infubinol                   6.567243                0.492236  \n",
       "Ketapril                    8.279709                0.603860  \n",
       "Naftisol                    8.134708                0.596466  \n",
       "Placebo                     7.821003                0.581331  \n",
       "Propriva                    6.622085                0.544332  \n",
       "Ramicane                    4.846308                0.320955  \n",
       "Stelasyn                    7.710419                0.573111  \n",
       "Zoniferol                   6.966589                0.516398  "
      ]
     },
     "execution_count": 7,
     "metadata": {},
     "output_type": "execute_result"
    }
   ],
   "source": [
    "#Group data by drug regimen\n",
    "regimens = clean_df.groupby(\"Drug Regimen\")\n",
    "\n",
    "#Calculate summary statistics for the tumor volume\n",
    "#mean, median, variance, standard deviation, standard error of means (SEM)\n",
    "mean = regimens.mean()[\"Tumor Volume (mm3)\"]\n",
    "med = regimens.median()[\"Tumor Volume (mm3)\"]\n",
    "var = regimens.var()[\"Tumor Volume (mm3)\"]\n",
    "std = regimens.std()[\"Tumor Volume (mm3)\"]\n",
    "sem = regimens.sem()[\"Tumor Volume (mm3)\"]\n",
    "\n",
    "#Assemble the DataFrame\n",
    "summary = pd.DataFrame({\"Mean Tumor Volume\":mean,\n",
    "                        \"Median Tumor Volume\":med,\n",
    "                        \"Tumor Volume Variance\":var,\n",
    "                        \"Tumor Volume Std. Dev.\":std,\n",
    "                        \"Tumor Volume Std. Err.\":sem})\n",
    "\n",
    "#Display the DataFrame\n",
    "summary"
   ]
  },
  {
   "cell_type": "code",
   "execution_count": 8,
   "id": "7efb2201",
   "metadata": {},
   "outputs": [
    {
     "data": {
      "text/html": [
       "<style  type=\"text/css\" >\n",
       "    #T_ce387e74_d1af_11ed_afd3_f49634916413 caption {\n",
       "          text-align: right;\n",
       "    }</style><table id=\"T_ce387e74_d1af_11ed_afd3_f49634916413\" ><thead>    <tr>        <th class=\"blank level0\" ></th>        <th class=\"col_heading level0 col0\" colspan=5>Tumor Volume (mm3)</th>    </tr>    <tr>        <th class=\"blank level1\" ></th>        <th class=\"col_heading level1 col0\" >mean</th>        <th class=\"col_heading level1 col1\" >median</th>        <th class=\"col_heading level1 col2\" >var</th>        <th class=\"col_heading level1 col3\" >std</th>        <th class=\"col_heading level1 col4\" >sem</th>    </tr>    <tr>        <th class=\"index_name level0\" >Drug Regimen</th>        <th class=\"blank\" ></th>        <th class=\"blank\" ></th>        <th class=\"blank\" ></th>        <th class=\"blank\" ></th>        <th class=\"blank\" ></th>    </tr></thead><tbody>\n",
       "                <tr>\n",
       "                        <th id=\"T_ce387e74_d1af_11ed_afd3_f49634916413level0_row0\" class=\"row_heading level0 row0\" >Capomulin</th>\n",
       "                        <td id=\"T_ce387e74_d1af_11ed_afd3_f49634916413row0_col0\" class=\"data row0 col0\" >40.675741</td>\n",
       "                        <td id=\"T_ce387e74_d1af_11ed_afd3_f49634916413row0_col1\" class=\"data row0 col1\" >41.557809</td>\n",
       "                        <td id=\"T_ce387e74_d1af_11ed_afd3_f49634916413row0_col2\" class=\"data row0 col2\" >24.947764</td>\n",
       "                        <td id=\"T_ce387e74_d1af_11ed_afd3_f49634916413row0_col3\" class=\"data row0 col3\" >4.994774</td>\n",
       "                        <td id=\"T_ce387e74_d1af_11ed_afd3_f49634916413row0_col4\" class=\"data row0 col4\" >0.329346</td>\n",
       "            </tr>\n",
       "            <tr>\n",
       "                        <th id=\"T_ce387e74_d1af_11ed_afd3_f49634916413level0_row1\" class=\"row_heading level0 row1\" >Ceftamin</th>\n",
       "                        <td id=\"T_ce387e74_d1af_11ed_afd3_f49634916413row1_col0\" class=\"data row1 col0\" >52.591172</td>\n",
       "                        <td id=\"T_ce387e74_d1af_11ed_afd3_f49634916413row1_col1\" class=\"data row1 col1\" >51.776157</td>\n",
       "                        <td id=\"T_ce387e74_d1af_11ed_afd3_f49634916413row1_col2\" class=\"data row1 col2\" >39.290177</td>\n",
       "                        <td id=\"T_ce387e74_d1af_11ed_afd3_f49634916413row1_col3\" class=\"data row1 col3\" >6.268188</td>\n",
       "                        <td id=\"T_ce387e74_d1af_11ed_afd3_f49634916413row1_col4\" class=\"data row1 col4\" >0.469821</td>\n",
       "            </tr>\n",
       "            <tr>\n",
       "                        <th id=\"T_ce387e74_d1af_11ed_afd3_f49634916413level0_row2\" class=\"row_heading level0 row2\" >Infubinol</th>\n",
       "                        <td id=\"T_ce387e74_d1af_11ed_afd3_f49634916413row2_col0\" class=\"data row2 col0\" >52.884795</td>\n",
       "                        <td id=\"T_ce387e74_d1af_11ed_afd3_f49634916413row2_col1\" class=\"data row2 col1\" >51.820584</td>\n",
       "                        <td id=\"T_ce387e74_d1af_11ed_afd3_f49634916413row2_col2\" class=\"data row2 col2\" >43.128684</td>\n",
       "                        <td id=\"T_ce387e74_d1af_11ed_afd3_f49634916413row2_col3\" class=\"data row2 col3\" >6.567243</td>\n",
       "                        <td id=\"T_ce387e74_d1af_11ed_afd3_f49634916413row2_col4\" class=\"data row2 col4\" >0.492236</td>\n",
       "            </tr>\n",
       "            <tr>\n",
       "                        <th id=\"T_ce387e74_d1af_11ed_afd3_f49634916413level0_row3\" class=\"row_heading level0 row3\" >Ketapril</th>\n",
       "                        <td id=\"T_ce387e74_d1af_11ed_afd3_f49634916413row3_col0\" class=\"data row3 col0\" >55.235638</td>\n",
       "                        <td id=\"T_ce387e74_d1af_11ed_afd3_f49634916413row3_col1\" class=\"data row3 col1\" >53.698743</td>\n",
       "                        <td id=\"T_ce387e74_d1af_11ed_afd3_f49634916413row3_col2\" class=\"data row3 col2\" >68.553577</td>\n",
       "                        <td id=\"T_ce387e74_d1af_11ed_afd3_f49634916413row3_col3\" class=\"data row3 col3\" >8.279709</td>\n",
       "                        <td id=\"T_ce387e74_d1af_11ed_afd3_f49634916413row3_col4\" class=\"data row3 col4\" >0.603860</td>\n",
       "            </tr>\n",
       "            <tr>\n",
       "                        <th id=\"T_ce387e74_d1af_11ed_afd3_f49634916413level0_row4\" class=\"row_heading level0 row4\" >Naftisol</th>\n",
       "                        <td id=\"T_ce387e74_d1af_11ed_afd3_f49634916413row4_col0\" class=\"data row4 col0\" >54.331565</td>\n",
       "                        <td id=\"T_ce387e74_d1af_11ed_afd3_f49634916413row4_col1\" class=\"data row4 col1\" >52.509285</td>\n",
       "                        <td id=\"T_ce387e74_d1af_11ed_afd3_f49634916413row4_col2\" class=\"data row4 col2\" >66.173479</td>\n",
       "                        <td id=\"T_ce387e74_d1af_11ed_afd3_f49634916413row4_col3\" class=\"data row4 col3\" >8.134708</td>\n",
       "                        <td id=\"T_ce387e74_d1af_11ed_afd3_f49634916413row4_col4\" class=\"data row4 col4\" >0.596466</td>\n",
       "            </tr>\n",
       "            <tr>\n",
       "                        <th id=\"T_ce387e74_d1af_11ed_afd3_f49634916413level0_row5\" class=\"row_heading level0 row5\" >Placebo</th>\n",
       "                        <td id=\"T_ce387e74_d1af_11ed_afd3_f49634916413row5_col0\" class=\"data row5 col0\" >54.033581</td>\n",
       "                        <td id=\"T_ce387e74_d1af_11ed_afd3_f49634916413row5_col1\" class=\"data row5 col1\" >52.288934</td>\n",
       "                        <td id=\"T_ce387e74_d1af_11ed_afd3_f49634916413row5_col2\" class=\"data row5 col2\" >61.168083</td>\n",
       "                        <td id=\"T_ce387e74_d1af_11ed_afd3_f49634916413row5_col3\" class=\"data row5 col3\" >7.821003</td>\n",
       "                        <td id=\"T_ce387e74_d1af_11ed_afd3_f49634916413row5_col4\" class=\"data row5 col4\" >0.581331</td>\n",
       "            </tr>\n",
       "            <tr>\n",
       "                        <th id=\"T_ce387e74_d1af_11ed_afd3_f49634916413level0_row6\" class=\"row_heading level0 row6\" >Propriva</th>\n",
       "                        <td id=\"T_ce387e74_d1af_11ed_afd3_f49634916413row6_col0\" class=\"data row6 col0\" >52.320930</td>\n",
       "                        <td id=\"T_ce387e74_d1af_11ed_afd3_f49634916413row6_col1\" class=\"data row6 col1\" >50.446266</td>\n",
       "                        <td id=\"T_ce387e74_d1af_11ed_afd3_f49634916413row6_col2\" class=\"data row6 col2\" >43.852013</td>\n",
       "                        <td id=\"T_ce387e74_d1af_11ed_afd3_f49634916413row6_col3\" class=\"data row6 col3\" >6.622085</td>\n",
       "                        <td id=\"T_ce387e74_d1af_11ed_afd3_f49634916413row6_col4\" class=\"data row6 col4\" >0.544332</td>\n",
       "            </tr>\n",
       "            <tr>\n",
       "                        <th id=\"T_ce387e74_d1af_11ed_afd3_f49634916413level0_row7\" class=\"row_heading level0 row7\" >Ramicane</th>\n",
       "                        <td id=\"T_ce387e74_d1af_11ed_afd3_f49634916413row7_col0\" class=\"data row7 col0\" >40.216745</td>\n",
       "                        <td id=\"T_ce387e74_d1af_11ed_afd3_f49634916413row7_col1\" class=\"data row7 col1\" >40.673236</td>\n",
       "                        <td id=\"T_ce387e74_d1af_11ed_afd3_f49634916413row7_col2\" class=\"data row7 col2\" >23.486704</td>\n",
       "                        <td id=\"T_ce387e74_d1af_11ed_afd3_f49634916413row7_col3\" class=\"data row7 col3\" >4.846308</td>\n",
       "                        <td id=\"T_ce387e74_d1af_11ed_afd3_f49634916413row7_col4\" class=\"data row7 col4\" >0.320955</td>\n",
       "            </tr>\n",
       "            <tr>\n",
       "                        <th id=\"T_ce387e74_d1af_11ed_afd3_f49634916413level0_row8\" class=\"row_heading level0 row8\" >Stelasyn</th>\n",
       "                        <td id=\"T_ce387e74_d1af_11ed_afd3_f49634916413row8_col0\" class=\"data row8 col0\" >54.233149</td>\n",
       "                        <td id=\"T_ce387e74_d1af_11ed_afd3_f49634916413row8_col1\" class=\"data row8 col1\" >52.431737</td>\n",
       "                        <td id=\"T_ce387e74_d1af_11ed_afd3_f49634916413row8_col2\" class=\"data row8 col2\" >59.450562</td>\n",
       "                        <td id=\"T_ce387e74_d1af_11ed_afd3_f49634916413row8_col3\" class=\"data row8 col3\" >7.710419</td>\n",
       "                        <td id=\"T_ce387e74_d1af_11ed_afd3_f49634916413row8_col4\" class=\"data row8 col4\" >0.573111</td>\n",
       "            </tr>\n",
       "            <tr>\n",
       "                        <th id=\"T_ce387e74_d1af_11ed_afd3_f49634916413level0_row9\" class=\"row_heading level0 row9\" >Zoniferol</th>\n",
       "                        <td id=\"T_ce387e74_d1af_11ed_afd3_f49634916413row9_col0\" class=\"data row9 col0\" >53.236507</td>\n",
       "                        <td id=\"T_ce387e74_d1af_11ed_afd3_f49634916413row9_col1\" class=\"data row9 col1\" >51.818479</td>\n",
       "                        <td id=\"T_ce387e74_d1af_11ed_afd3_f49634916413row9_col2\" class=\"data row9 col2\" >48.533355</td>\n",
       "                        <td id=\"T_ce387e74_d1af_11ed_afd3_f49634916413row9_col3\" class=\"data row9 col3\" >6.966589</td>\n",
       "                        <td id=\"T_ce387e74_d1af_11ed_afd3_f49634916413row9_col4\" class=\"data row9 col4\" >0.516398</td>\n",
       "            </tr>\n",
       "    </tbody></table>"
      ],
      "text/plain": [
       "<pandas.io.formats.style.Styler at 0x1d5f130d848>"
      ]
     },
     "execution_count": 8,
     "metadata": {},
     "output_type": "execute_result"
    }
   ],
   "source": [
    "#Using aggregation, reproduce the same summary statistics DataFrame in a single line of code\n",
    "aggregate_df = regimens.agg({\"Tumor Volume (mm3)\":[\"mean\",\"median\",\"var\",\"std\",\"sem\"]})\n",
    "\n",
    "# DataFrame caption styling\n",
    "styles = [dict(selector=\"caption\",props=[(\"text-align\", \"right\")])]\n",
    "summary_agg = aggregate_df.style.set_table_styles(styles)\n",
    "\n",
    "#Display the captioned DataFrame\n",
    "summary_agg"
   ]
  },
  {
   "cell_type": "markdown",
   "id": "8f774911",
   "metadata": {},
   "source": [
    "## Bar and Pie Charts"
   ]
  },
  {
   "cell_type": "code",
   "execution_count": 9,
   "id": "7fc914a9",
   "metadata": {},
   "outputs": [
    {
     "data": {
      "image/png": "[encoded data removed]",
      "text/plain": [
       "<Figure size 432x288 with 1 Axes>"
      ]
     },
     "metadata": {
      "needs_background": "light"
     },
     "output_type": "display_data"
    }
   ],
   "source": [
    "#Using Pandas, display a bar plot of total timepoints by drug regimen\n",
    "bar_data = pd.DataFrame(regimens.count()[\"Timepoint\"]).sort_values([\"Timepoint\",\"Drug Regimen\"],ascending=[False,True])\n",
    "pandas_bar_plot = bar_data.plot.bar(legend=False).set_ylabel(\"Number of Mice Tested\")"
   ]
  },
  {
   "cell_type": "code",
   "execution_count": 10,
   "id": "339dd629",
   "metadata": {
    "scrolled": true
   },
   "outputs": [
    {
     "data": {
      "image/png": "[encoded data removed]",
      "text/plain": [
       "<Figure size 432x288 with 1 Axes>"
      ]
     },
     "metadata": {
      "needs_background": "light"
     },
     "output_type": "display_data"
    }
   ],
   "source": [
    "#Using pyplot, display a bar plot of total timepoints by drug regimen\n",
    "plt.bar(bar_data.index.values,bar_data[\"Timepoint\"])\n",
    "plt.xlabel(\"Drug Regimen\")\n",
    "plt.ylabel(\"Number of Mice Tested\")\n",
    "plt.xticks(rotation=90)\n",
    "plt.show()"
   ]
  },
  {
   "cell_type": "code",
   "execution_count": 11,
   "id": "12df5793",
   "metadata": {},
   "outputs": [
    {
     "data": {
      "image/png": "[encoded data removed]",
      "text/plain": [
       "<Figure size 432x288 with 1 Axes>"
      ]
     },
     "metadata": {},
     "output_type": "display_data"
    }
   ],
   "source": [
    "#Using Pandas, display a pie plot showing the distribution of female mice versus male mice\n",
    "males = clean_df.loc[clean_df[\"Sex\"]==\"Male\"].count()[\"Mouse ID\"]\n",
    "females = clean_df.loc[clean_df[\"Sex\"]==\"Female\"].count()[\"Mouse ID\"]\n",
    "sex_df = pd.DataFrame({\"Category\":[\"Male\",\"Female\"],\"Sex\":[males,females]}).set_index(\"Category\")\n",
    "sex_plot = sex_df.plot.pie(y=\"Sex\",autopct=\"%1.1f%%\",legend=False)\n"
   ]
  },
  {
   "cell_type": "code",
   "execution_count": 12,
   "id": "4a25e1b2",
   "metadata": {},
   "outputs": [
    {
     "data": {
      "image/png": "[encoded data removed]",
      "text/plain": [
       "<Figure size 432x288 with 1 Axes>"
      ]
     },
     "metadata": {},
     "output_type": "display_data"
    }
   ],
   "source": [
    "#Using pyplot, display a pie plot showing the distribution of female mice versus male mice\n",
    "counts = [males,females]\n",
    "labels = [\"Male\",\"Female\"]\n",
    "plt.pie(counts,autopct=\"%1.1f%%\",labels=labels)\n",
    "plt.ylabel(\"Sex\")\n",
    "plt.show()"
   ]
  },
  {
   "cell_type": "markdown",
   "id": "f0641f91",
   "metadata": {},
   "source": [
    "## Quartiles, Outliers and Boxplots"
   ]
  },
  {
   "cell_type": "code",
   "execution_count": 13,
   "id": "ba5212bd",
   "metadata": {},
   "outputs": [],
   "source": [
    "#Grouping by drug regimen, get the max timepoint for each mouse\n",
    "max_timepoint_df = pd.DataFrame(clean_df.groupby([\"Drug Regimen\",\"Mouse ID\"]).max()[\"Timepoint\"])\n",
    "\n",
    "#Merge with cleaned DataFrame to get the tumor volume at the max timepoint\n",
    "vol_df = pd.merge(max_timepoint_df,clean_df,on=[\"Drug Regimen\",\"Mouse ID\",\"Timepoint\"],how=\"left\")"
   ]
  },
  {
   "cell_type": "code",
   "execution_count": 14,
   "id": "25fcdcd4",
   "metadata": {},
   "outputs": [
    {
     "name": "stdout",
     "output_type": "stream",
     "text": [
      "[]\n",
      "[]\n",
      "[36.321345799999996]\n",
      "[]\n"
     ]
    }
   ],
   "source": [
    "#Create a list of the four specified drugs\n",
    "drugs = [\"Capomulin\",\"Ramicane\",\"Infubinol\",\"Ceftamin\"]\n",
    "\n",
    "#Generate \"list of lists\" of tumor volumes for each drug in list of drugs\n",
    "tumor_volumes = [list(vol_df.loc[vol_df[\"Drug Regimen\"]==drug][\"Tumor Volume (mm3)\"]) for drug in drugs]\n",
    "\n",
    "#Generate \"list of DataFrames\" of tumor volumes for each drug in list of drugs\n",
    "tumor_volumes_dfs = [vol_df.loc[vol_df[\"Drug Regimen\"]==drug][[\"Tumor Volume (mm3)\"]] for drug in drugs]\n",
    "\n",
    "#Quartiles\n",
    "quartiles = [tumor_volumes_dfs[index].quantile([.25,.5,.75]) for index in range(0,len(tumor_volumes_dfs))]\n",
    "lowerqs = [quartile.loc[0.25,\"Tumor Volume (mm3)\"] for quartile in quartiles]\n",
    "upperqs = [quartile.loc[0.75,\"Tumor Volume (mm3)\"] for quartile in quartiles]\n",
    "\n",
    "#IQRs\n",
    "iqrs = [upperqs[index]-lowerqs[index] for index in range(0,len(upperqs))]\n",
    "\n",
    "#Upper and lower bounds\n",
    "upper_bounds = [upperqs[index] + (1.5*iqrs[index]) for index in range(0,len(lowerqs))]\n",
    "lower_bounds = [lowerqs[index] - (1.5*iqrs[index]) for index in range(0,len(lowerqs))]\n",
    "\n",
    "cap_outs = []\n",
    "ram_outs = []\n",
    "inf_outs = []\n",
    "cef_outs = []\n",
    "\n",
    "for x in tumor_volumes[0]:\n",
    "    if (x > upper_bounds[0]) or (x < lower_bounds[0]):\n",
    "        cap_outs.append(x)\n",
    "for x in tumor_volumes[1]:\n",
    "    if (x > upper_bounds[1]) or (x < lower_bounds[1]):\n",
    "        ram_outs.append(x)\n",
    "for x in tumor_volumes[2]:\n",
    "    if (x > upper_bounds[2]) or (x < lower_bounds[2]):\n",
    "        inf_outs.append(x)\n",
    "for x in tumor_volumes[3]:\n",
    "    if (x > upper_bounds[3]) or (x < lower_bounds[3]):\n",
    "        cef_outs.append(x)\n",
    "# ram_out\n",
    "# inf_out\n",
    "# cef_out\n",
    "# upper_bounds = upperqs + (1.5*iqrs)\n",
    "# quartiles[0].loc[0.25]\n",
    "print(cap_outs)\n",
    "print(ram_outs)\n",
    "print(inf_outs)\n",
    "print(cef_outs)"
   ]
  },
  {
   "cell_type": "code",
   "execution_count": 15,
   "id": "4c61e789",
   "metadata": {},
   "outputs": [
    {
     "name": "stdout",
     "output_type": "stream",
     "text": [
      "[20.70456164999999, 17.912664470000003, 36.83290494999999, 25.355449580000002]\n",
      "[51.83201549, 54.30681135, 82.74144559000001, 87.66645829999999]\n"
     ]
    }
   ],
   "source": [
    "print(lower_bounds)\n",
    "print(upper_bounds)\n",
    "# df.loc[value] for key, value in df.groupby(\"name\").groups.items()"
   ]
  },
  {
   "cell_type": "code",
   "execution_count": 16,
   "id": "5ad3b6c0",
   "metadata": {},
   "outputs": [
    {
     "data": {
      "image/png": "[encoded data removed]",
      "text/plain": [
       "<Figure size 432x288 with 1 Axes>"
      ]
     },
     "metadata": {
      "needs_background": "light"
     },
     "output_type": "display_data"
    }
   ],
   "source": [
    "#Display the box plot\n",
    "fig, ax = plt.subplots()\n",
    "ax.boxplot(tumor_volumes, labels=drugs)\n",
    "ax.set_ylabel(\"Final Tumor Volume (mm3)\")\n",
    "plt.show()"
   ]
  },
  {
   "cell_type": "markdown",
   "id": "16727845",
   "metadata": {},
   "source": [
    "## Line and Scatter Plots"
   ]
  },
  {
   "cell_type": "code",
   "execution_count": 17,
   "id": "7ae3a7a8",
   "metadata": {},
   "outputs": [
    {
     "data": {
      "image/png": "[encoded data removed]",
      "text/plain": [
       "<Figure size 432x288 with 1 Axes>"
      ]
     },
     "metadata": {
      "needs_background": "light"
     },
     "output_type": "display_data"
    }
   ],
   "source": [
    "#Filter clean DataFrame for Capomulin and mouse l509\n",
    "line = clean_df.loc[(clean_df[\"Drug Regimen\"]==\"Capomulin\")&(clean_df[\"Mouse ID\"]==\"l509\")]\n",
    "\n",
    "#Display the line plot\n",
    "plt.plot(line[\"Timepoint\"],line[\"Tumor Volume (mm3)\"])\n",
    "plt.xlabel(\"Timepoint (days)\")\n",
    "plt.ylabel(\"Tumor Volume (mm3)\")\n",
    "plt.title(\"Capomulin treatment of mouse l509\")\n",
    "plt.show()"
   ]
  },
  {
   "cell_type": "code",
   "execution_count": 18,
   "id": "2003deb3",
   "metadata": {},
   "outputs": [
    {
     "data": {
      "image/png": "[encoded data removed]",
      "text/plain": [
       "<Figure size 432x288 with 1 Axes>"
      ]
     },
     "metadata": {
      "needs_background": "light"
     },
     "output_type": "display_data"
    }
   ],
   "source": [
    "#Filter clean DataFrame for Capomulin\n",
    "df1 = clean_df.loc[clean_df[\"Drug Regimen\"]==\"Capomulin\",:].groupby(\"Mouse ID\").mean()\n",
    "\n",
    "#Display the scatter plot\n",
    "plt.scatter(df1[\"Weight (g)\"],df1[\"Tumor Volume (mm3)\"])\n",
    "plt.xlabel(\"Weight (g)\")\n",
    "plt.ylabel(\"Average Tumor Volume (mm3)\")\n",
    "plt.show()"
   ]
  },
  {
   "cell_type": "markdown",
   "id": "4cda5a0a",
   "metadata": {},
   "source": [
    "## Correlation and Regression"
   ]
  },
  {
   "cell_type": "code",
   "execution_count": null,
   "id": "f250488a",
   "metadata": {},
   "outputs": [],
   "source": []
  },
  {
   "cell_type": "code",
   "execution_count": null,
   "id": "2834226f",
   "metadata": {},
   "outputs": [],
   "source": []
  }
 ],
 "metadata": {
  "kernelspec": {
   "display_name": "PythonData",
   "language": "python",
   "name": "pythondata"
  },
  "language_info": {
   "codemirror_mode": {
    "name": "ipython",
    "version": 3
   },
   "file_extension": ".py",
   "mimetype": "text/x-python",
   "name": "python",
   "nbconvert_exporter": "python",
   "pygments_lexer": "ipython3",
   "version": "3.7.7"
  }
 },
 "nbformat": 4,
 "nbformat_minor": 5
}
